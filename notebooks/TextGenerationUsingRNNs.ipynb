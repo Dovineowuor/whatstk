{
 "cells": [
  {
   "cell_type": "markdown",
   "metadata": {},
   "source": [
    "# Text Generation using RNNs\n",
    "In this brief notebook we show how we can load a chat from WhatsApp and try to emulate the behaviour from one of the users withing the group chat.\n",
    "\n",
    "We start by importing some libraries and loading the group chat text file."
   ]
  },
  {
   "cell_type": "code",
   "execution_count": 7,
   "metadata": {
    "collapsed": true
   },
   "outputs": [],
   "source": [
    "from __future__ import print_function\n",
    "import sys\n",
    "sys.path.append('../')\n",
    "from whatstk.wparser import WhatsAppChat\n",
    "# load group chat\n",
    "wpchat = WhatsAppChat(\"../chats/samplechat.txt\")\n",
    "# choose user to emulate\n",
    "user = 'Ash Ketchum'\n",
    "text_characters = wpchat.get_text(user, characters = True)"
   ]
  },
  {
   "cell_type": "markdown",
   "metadata": {},
   "source": [
    "Next, we initialize the RNN object using the retrieved data from the text."
   ]
  },
  {
   "cell_type": "code",
   "execution_count": 8,
   "metadata": {
    "collapsed": true
   },
   "outputs": [],
   "source": [
    "from whatstk.learn.rnn import RNN, read_data\n",
    "rnn = RNN(l, n_hidden_states=100)"
   ]
  },
  {
   "cell_type": "markdown",
   "metadata": {},
   "source": [
    "Time to train!"
   ]
  },
  {
   "cell_type": "code",
   "execution_count": null,
   "metadata": {},
   "outputs": [],
   "source": [
    "smooth_loss, iters, generated_sequences = rnn.generate_sequence()"
   ]
  }
 ],
 "metadata": {
  "kernelspec": {
   "display_name": "whatstk",
   "language": "python",
   "name": ".env"
  },
  "language_info": {
   "codemirror_mode": {
    "name": "ipython",
    "version": 3
   },
   "file_extension": ".py",
   "mimetype": "text/x-python",
   "name": "python",
   "nbconvert_exporter": "python",
   "pygments_lexer": "ipython3",
   "version": "3.5.0"
  }
 },
 "nbformat": 4,
 "nbformat_minor": 2
}
