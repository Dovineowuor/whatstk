{
 "cells": [
  {
   "cell_type": "markdown",
   "metadata": {
    "deletable": true,
    "editable": true
   },
   "source": [
    "# Similarity Map of WhatsApp Users based\n",
    "\n",
    "In this tutorial we briefly show how to obtain a similarity map from the users from your WhatsApp group. We will use the library ``whatstk`` included in this project. \n",
    "\n",
    "Below we provide some theory background. However, for a detailed and further documentation you can refer to some of these references [Kohonen 1982](http://campus.fi.uba.ar/mod/resource/view.php?id=34864), [Kohonen 1998](http://www.sciencedirect.com/science/article/pii/S0925231298000307), , [Rojas 1996](https://page.mi.fu-berlin.de/rojas/neural/chapter/K15.pdf), [Joschka Boedecker 2015](http://ml.informatik.uni-freiburg.de/_media/documents/teaching/ss15/som.pdf) or simply take a look at the [Wikipedia page](https://en.wikipedia.org/wiki/Self-organizing_map)."
   ]
  },
  {
   "cell_type": "markdown",
   "metadata": {
    "deletable": true,
    "editable": true
   },
   "source": [
    "## 1. Self-Organizing-Maps\n",
    "A self-organizing map (SOM) is an unsupervised learning method that performs dimension reduction to a topological-predefined output space.\n",
    "\n",
    "The picture below (from this [course](http://www.pitt.edu/~is2470pb/Spring05/FinalProjects/Group1a/tutorial/)) illustrates the main idea of SOM\n",
    "\n",
    "![Image of Yaktocat](http://www.pitt.edu/~is2470pb/Spring05/FinalProjects/Group1a/tutorial/kohonen1.gif)\n",
    "\n",
    "\n",
    "In this picture, $\\boldsymbol{x} = [x_1, \\dots, x_n]$ denotes the input vector of features. Note that it only contains one single layer. \n",
    "\n",
    "The network is divided into two stages: (1) Competitive Learning and (2) Topologycal output space.\n",
    "\n",
    "### 1.3 Competitive Learning\n",
    "\n",
    "Each neuron (unit) $k$ is represented by a _prototype vector_ $\\boldsymbol{w}_k$. When feeding the network with the input vector $\\boldsymbol{x}$, the closest unit (unit minimizing $||\\boldsymbol{x}-\\boldsymbol{w}_k||$) is known as the **winning unit**. In a Winner-Takes-All (WTA) approach, only the winning unit prototype vector is updated, i.e.\n",
    "\n",
    "$$ \\Delta \\boldsymbol{w}_{win} = \\eta(\\boldsymbol{x}-\\boldsymbol{w}_{win}).$$\n",
    "\n",
    "Note that in the WTA approach, dead units might easily appear. Thus, at some points we need to allow for dead units to learn a bit in order to start claiming their territory!\n",
    "\n",
    "### 1.2 Kohonen Map\n",
    "An alternative to WTA approach relies on allowing other units to be also updated. In particular, all units are updated according to their proximity to the winning units in the output space. Now the update rule is\n",
    "\n",
    "$$ \\Delta \\boldsymbol{w}_{k} = \\eta h_k(\\boldsymbol{x}-\\boldsymbol{w}_{k}),$$\n",
    "\n",
    "where the term $h_k$ quantifies the proximity of the unit $\\boldsymbol{w}_k$ to the winning unit in the ouput space (high if they are close) and $\\eta$ represent the learning rate.\n",
    "\n",
    "\n",
    "This simple but powerful idea, allows for easy visualization of high-dimensional data in an eye-friendly format. Typical output spaces are lines, circles or 2D grids (like in the picture).\n",
    "\n",
    "\n"
   ]
  },
  {
   "cell_type": "markdown",
   "metadata": {
    "deletable": true,
    "editable": true
   },
   "source": [
    "## 2. Code\n",
    "\n",
    "Let us now begin this brief tutorial. Let us first import the basic libraries that we will be using."
   ]
  },
  {
   "cell_type": "markdown",
   "metadata": {
    "deletable": true,
    "editable": true
   },
   "source": [
    "### 2.1 Initialization"
   ]
  },
  {
   "cell_type": "code",
   "execution_count": 1,
   "metadata": {
    "collapsed": true,
    "deletable": true,
    "editable": true
   },
   "outputs": [],
   "source": [
    "from __future__ import print_function"
   ]
  },
  {
   "cell_type": "code",
   "execution_count": 2,
   "metadata": {
    "collapsed": true,
    "deletable": true,
    "editable": true
   },
   "outputs": [],
   "source": [
    "import sys\n",
    "sys.path.append('../')"
   ]
  },
  {
   "cell_type": "code",
   "execution_count": 3,
   "metadata": {
    "collapsed": true,
    "deletable": true,
    "editable": true
   },
   "outputs": [],
   "source": [
    "from whatstk.wparser import WhatsAppChat"
   ]
  },
  {
   "cell_type": "markdown",
   "metadata": {
    "deletable": true,
    "editable": true
   },
   "source": [
    "#### Create chat object\n",
    "We first create a WhatAppChat object of our chat log file. For testing pruposes, we provide a sample chat log file. "
   ]
  },
  {
   "cell_type": "code",
   "execution_count": 5,
   "metadata": {
    "collapsed": false,
    "deletable": true,
    "editable": true
   },
   "outputs": [],
   "source": [
    "wpchat = WhatsAppChat(\"../chats/samplechat.txt\")"
   ]
  },
  {
   "cell_type": "markdown",
   "metadata": {
    "deletable": true,
    "editable": true
   },
   "source": [
    "#### Obtain some basic data\n",
    "Let us now obtain basic data from the chat"
   ]
  },
  {
   "cell_type": "code",
   "execution_count": 6,
   "metadata": {
    "collapsed": false,
    "deletable": true,
    "editable": true
   },
   "outputs": [],
   "source": [
    "# Obtain the names of the users from the chat\n",
    "users = wpchat.usernames\n",
    "# Obtain list of days with interventions\n",
    "days = wpchat.days\n",
    "# Obtain number of interventions in the chat\n",
    "num_interventions = wpchat.num_interventions"
   ]
  },
  {
   "cell_type": "code",
   "execution_count": 7,
   "metadata": {
    "collapsed": false,
    "deletable": true,
    "editable": true
   },
   "outputs": [
    {
     "name": "stdout",
     "output_type": "stream",
     "text": [
      "Brief summary\n",
      "\n",
      " * 8 users found: \n",
      "\t Ash Ketchum\n",
      "\t Brock\n",
      "\t Jessie & James\n",
      "\t Meowth\n",
      "\t Misty\n",
      "\t Prof. Oak\n",
      "\t Raichu\n",
      "\t Wobbuffet\n",
      "\n",
      " * Chat was active 6 days\n",
      " * Chat had 18 interventions\n",
      " * Chat had an average of 3.00 interventions/day\n",
      " * Chat had an average of 0.38 interventions/day/person\n"
     ]
    }
   ],
   "source": [
    "print(\"Brief summary\")\n",
    "# Print name of users\n",
    "print(\"\\n *\", len(users),\"users found: \")\n",
    "[print(\"\\t\", user) for user in users]\n",
    "# Number of days the chat has been active\n",
    "print(\"\\n * Chat was active\", len(days), \"days\")\n",
    "# Number of interventions\n",
    "print(\" * Chat had\", num_interventions, \"interventions\")\n",
    "# Average number of interventions per day\n",
    "int_day=num_interventions/len(days)\n",
    "print(\" * Chat had an average of %.2f\" % int_day, \"interventions/day\")\n",
    "# Average number of interventions per day per user\n",
    "int_day_pers = int_day/len(users)\n",
    "print(\" * Chat had an average of %.2f\" % int_day_pers, \"interventions/day/person\")"
   ]
  },
  {
   "cell_type": "markdown",
   "metadata": {
    "deletable": true,
    "editable": true
   },
   "source": [
    "### 2.2 Obtain input data\n",
    "We start by obtaining the number of interventions of each user per day of chat activity"
   ]
  },
  {
   "cell_type": "code",
   "execution_count": 8,
   "metadata": {
    "collapsed": false,
    "deletable": true,
    "editable": true
   },
   "outputs": [],
   "source": [
    "# Dictionary containing the number of user interventions per day \n",
    "# (only days of chat activity are considered)\n",
    "interventions_per_day = wpchat.interventions_per_day"
   ]
  },
  {
   "cell_type": "code",
   "execution_count": 9,
   "metadata": {
    "collapsed": false,
    "deletable": true,
    "editable": true
   },
   "outputs": [
    {
     "data": {
      "text/plain": [
       "{'Ash Ketchum': array([ 2.,  1.,  1.,  0.,  0.,  0.]),\n",
       " 'Brock': array([ 2.,  1.,  0.,  0.,  0.,  0.]),\n",
       " 'Jessie & James': array([ 0.,  0.,  1.,  0.,  0.,  0.]),\n",
       " 'Meowth': array([ 0.,  0.,  0.,  0.,  1.,  0.]),\n",
       " 'Misty': array([ 2.,  1.,  0.,  1.,  0.,  0.]),\n",
       " 'Prof. Oak': array([ 0.,  1.,  0.,  0.,  0.,  1.]),\n",
       " 'Raichu': array([ 0.,  0.,  2.,  0.,  0.,  0.]),\n",
       " 'Wobbuffet': array([ 0.,  0.,  0.,  0.,  0.,  1.])}"
      ]
     },
     "execution_count": 9,
     "metadata": {},
     "output_type": "execute_result"
    }
   ],
   "source": [
    "# Print the data\n",
    "interventions_per_day"
   ]
  },
  {
   "cell_type": "markdown",
   "metadata": {
    "deletable": true,
    "editable": true
   },
   "source": [
    "We will now build a similarity map between users. In this regard, we will have a vector $\\boldsymbol{x}_k$ for each user $k$. The features of this vectors consist on the number of interventions in each day. \n",
    "\n",
    "To be able to perform this, we will use `DataFrame` from the `pandas` library using the keys of the dictionary (usernames) as columns."
   ]
  },
  {
   "cell_type": "code",
   "execution_count": 10,
   "metadata": {
    "collapsed": false,
    "deletable": true,
    "editable": true
   },
   "outputs": [
    {
     "name": "stdout",
     "output_type": "stream",
     "text": [
      "   Ash Ketchum  Brock  Jessie & James  Meowth  Misty  Prof. Oak  Raichu  \\\n",
      "0          2.0    2.0             0.0     0.0    2.0        0.0     0.0   \n",
      "1          1.0    1.0             0.0     0.0    1.0        1.0     0.0   \n",
      "2          1.0    0.0             1.0     0.0    0.0        0.0     2.0   \n",
      "3          0.0    0.0             0.0     0.0    1.0        0.0     0.0   \n",
      "4          0.0    0.0             0.0     1.0    0.0        0.0     0.0   \n",
      "5          0.0    0.0             0.0     0.0    0.0        1.0     0.0   \n",
      "\n",
      "   Wobbuffet  \n",
      "0        0.0  \n",
      "1        0.0  \n",
      "2        0.0  \n",
      "3        0.0  \n",
      "4        0.0  \n",
      "5        1.0  \n"
     ]
    }
   ],
   "source": [
    "import pandas as pd\n",
    "df = pd.DataFrame.from_dict(interventions_per_day, orient='columns')\n",
    "print(df)"
   ]
  },
  {
   "cell_type": "markdown",
   "metadata": {
    "deletable": true,
    "editable": true
   },
   "source": [
    "To ease the learning, we normalize and center each dimension"
   ]
  },
  {
   "cell_type": "code",
   "execution_count": 11,
   "metadata": {
    "collapsed": false,
    "deletable": true,
    "editable": true
   },
   "outputs": [
    {
     "name": "stdout",
     "output_type": "stream",
     "text": [
      "   Ash Ketchum  Brock  Jessie & James  Meowth  Misty  Prof. Oak  Raichu  \\\n",
      "0        0.625  0.625          -0.375  -0.375  0.625     -0.375  -0.375   \n",
      "1        0.500  0.500          -0.500  -0.500  0.500      0.500  -0.500   \n",
      "2        0.250 -0.250           0.250  -0.250 -0.250     -0.250   0.750   \n",
      "3       -0.125 -0.125          -0.125  -0.125  0.875     -0.125  -0.125   \n",
      "4       -0.125 -0.125          -0.125   0.875 -0.125     -0.125  -0.125   \n",
      "5       -0.250 -0.250          -0.250  -0.250 -0.250      0.750  -0.250   \n",
      "\n",
      "   Wobbuffet  \n",
      "0     -0.375  \n",
      "1     -0.500  \n",
      "2     -0.250  \n",
      "3     -0.125  \n",
      "4     -0.125  \n",
      "5      0.750  \n"
     ]
    }
   ],
   "source": [
    "# Center each dimension\n",
    "df = df.sub(df.mean(axis=1), axis=0)\n",
    "# Normalize each dimension\n",
    "df = df.divide(df.max(axis=1)-df.min(axis=1), axis=0)\n",
    "print(df)"
   ]
  },
  {
   "cell_type": "markdown",
   "metadata": {
    "deletable": true,
    "editable": true
   },
   "source": [
    "### 2.3 Self-Organizing Map\n",
    "\n",
    "Once we have the our WhatsAppChat object created, we are ready to do have some fun."
   ]
  },
  {
   "cell_type": "code",
   "execution_count": 12,
   "metadata": {
    "collapsed": true,
    "deletable": true,
    "editable": true
   },
   "outputs": [],
   "source": [
    "from whatstk.learning.som import SelfOrganizingMap"
   ]
  },
  {
   "cell_type": "code",
   "execution_count": 13,
   "metadata": {
    "collapsed": true,
    "deletable": true,
    "editable": true
   },
   "outputs": [],
   "source": [
    "# We define the number of units that we will be using. Large number leads to good global\n",
    "# fit but poor local fit (low number leads to the oposite)\n",
    "num_units = 10\n",
    "# We choose an output space define by an array of neurons arranged in a line fashion\n",
    "topology = 'line'"
   ]
  },
  {
   "cell_type": "code",
   "execution_count": 14,
   "metadata": {
    "collapsed": false,
    "deletable": true,
    "editable": true
   },
   "outputs": [],
   "source": [
    "# Initialize our SOM\n",
    "som = SelfOrganizingMap(df, num_units, sigma_initial=num_units/2, num_epochs=1000,\n",
    "    learning_rate_initial=1, topology=topology)"
   ]
  },
  {
   "cell_type": "code",
   "execution_count": 15,
   "metadata": {
    "collapsed": false,
    "deletable": true,
    "editable": true
   },
   "outputs": [
    {
     "name": "stdout",
     "output_type": "stream",
     "text": [
      "\n",
      "* Training *\n",
      "- Starting parameters: \n",
      "\t learning rate = 1\n",
      "\t sigma = 5.0\n",
      "- Ending parameters: \n",
      "\t learning rate = 0.00034\n",
      "\t sigma = 0.25075\n"
     ]
    }
   ],
   "source": [
    "# Train our SOM\n",
    "som.train()"
   ]
  },
  {
   "cell_type": "markdown",
   "metadata": {
    "collapsed": true,
    "deletable": true,
    "editable": true
   },
   "source": [
    "Finally, we can print the results of the similarity map"
   ]
  },
  {
   "cell_type": "code",
   "execution_count": 16,
   "metadata": {
    "collapsed": false,
    "deletable": true,
    "editable": true
   },
   "outputs": [
    {
     "name": "stdout",
     "output_type": "stream",
     "text": [
      "\n",
      "* Results Self Organizing Map *\n",
      "\n",
      "0 - Misty\n",
      "1\n",
      "2 - Ash Ketchum, Brock\n",
      "3\n",
      "4 - Prof. Oak\n",
      "5\n",
      "6 - Wobbuffet\n",
      "7\n",
      "8 - Meowth\n",
      "9\n",
      "10 - Jessie & James, Raichu\n"
     ]
    }
   ],
   "source": [
    "som.print_results()"
   ]
  },
  {
   "cell_type": "markdown",
   "metadata": {
    "deletable": true,
    "editable": true
   },
   "source": [
    "There are other topologies available. Let us try them."
   ]
  },
  {
   "cell_type": "code",
   "execution_count": 17,
   "metadata": {
    "collapsed": false,
    "deletable": true,
    "editable": true
   },
   "outputs": [
    {
     "name": "stdout",
     "output_type": "stream",
     "text": [
      "\n",
      "* Training *\n",
      "- Starting parameters: \n",
      "\t learning rate = 1\n",
      "\t sigma = 5.0\n",
      "- Ending parameters: \n",
      "\t learning rate = 0.00034\n",
      "\t sigma = 0.25075\n",
      "\n",
      "* Results Self Organizing Map *\n",
      "\n",
      "0 - Prof. Oak\n",
      "1\n",
      "2 - Misty\n",
      "3\n",
      "4 - Ash Ketchum, Brock\n",
      "5\n",
      "6 - Raichu\n",
      "7 - Jessie & James\n",
      "8 - Meowth\n",
      "9\n",
      "10 - Wobbuffet\n"
     ]
    }
   ],
   "source": [
    "# Circle topology is the same as line, except that the first and last components are connected\n",
    "topology = 'circle'\n",
    "som = SelfOrganizingMap(df, num_units, sigma_initial=num_units/2, num_epochs=1000,\n",
    "    learning_rate_initial=1, topology=topology)\n",
    "som.train()\n",
    "som.print_results()"
   ]
  },
  {
   "cell_type": "code",
   "execution_count": 18,
   "metadata": {
    "collapsed": false,
    "deletable": true,
    "editable": true
   },
   "outputs": [
    {
     "name": "stdout",
     "output_type": "stream",
     "text": [
      "\n",
      "* Training *\n",
      "- Starting parameters: \n",
      "\t learning rate = 1\n",
      "\t sigma = 2.5\n",
      "- Ending parameters: \n",
      "\t learning rate = 0.00034\n",
      "\t sigma = 0.25058\n",
      "\n",
      "* Results Self Organizing Map *\n",
      "\n",
      "       0            1  2               3       4\n",
      "0           Prof. Oak          Wobbuffet        \n",
      "1                                         Meowth\n",
      "2  Misty                                        \n",
      "3                         Jessie & James        \n",
      "4  Brock  Ash Ketchum                     Raichu\n"
     ]
    }
   ],
   "source": [
    "# We now try a 2D-grid\n",
    "# Number of units now denotes the number of units per side. In total, we have \n",
    "# num_units*num_units units\n",
    "\n",
    "num_units = 5 \n",
    "topology = '2dgrid'\n",
    "som = SelfOrganizingMap(df, num_units, sigma_initial=num_units/2, num_epochs=1000,\n",
    "    learning_rate_initial=1, topology=topology)\n",
    "som.train()\n",
    "som.print_results()"
   ]
  }
 ],
 "metadata": {
  "kernelspec": {
   "display_name": "whatstkenv\n",
   "language": "python",
   "name": ".whatstkenv"
  },
  "language_info": {
   "codemirror_mode": {
    "name": "ipython",
    "version": 3
   },
   "file_extension": ".py",
   "mimetype": "text/x-python",
   "name": "python",
   "nbconvert_exporter": "python",
   "pygments_lexer": "ipython3",
   "version": "3.5.2"
  }
 },
 "nbformat": 4,
 "nbformat_minor": 2
}
